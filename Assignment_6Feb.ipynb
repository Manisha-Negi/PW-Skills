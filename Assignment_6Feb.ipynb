{
 "cells": [
  {
   "cell_type": "markdown",
   "id": "23e180f2",
   "metadata": {},
   "source": [
    "### Q1. Create a function which will take a list as an argument and return the product of all the numbers after creating a flat list.\n",
    "\n",
    "### Use the below-given list as an argument for your function.\n",
    "\n",
    "\n",
    "### list1 = [1,2,3,4, [44,55,66, True], False, (34,56,78,89,34), {1,2,3,3,2,1}, {1:34, \"key2\": [55, 67, 78, 89], 4: (45, 22, 61, 34)}, [56, 'data science'], 'Machine Learning']\n",
    "\n",
    "\n",
    "### Note: you must extract numeric keys and values of the dictionary also."
   ]
  },
  {
   "cell_type": "code",
   "execution_count": 2,
   "id": "00762092",
   "metadata": {},
   "outputs": [
    {
     "name": "stdout",
     "output_type": "stream",
     "text": [
      "[1, 2, 3, 4, 44, 55, 66, 34, 56, 78, 89, 34, 1, 2, 3, 1, 34, 55, 67, 78, 89, 4, 45, 22, 61, 34, 56]\n",
      "4134711838987085478833841242112000\n"
     ]
    }
   ],
   "source": [
    "from functools import reduce\n",
    "list2=[]\n",
    "def func(list1):\n",
    "\tfor i in list1:\n",
    "\t\tif type(i) == int:\n",
    "\t\t\tlist2.append(i)\n",
    "\t\telif type(i) == list or type(i) == set or type(i) == tuple:\n",
    "\t\t\tfor j in i:\n",
    "\t\t\t\tif type(j) == int:\n",
    "\t\t\t\t   list2.append(j)\n",
    "\t\t\t\telse:\n",
    "\t\t\t\t   pass\n",
    "\t\telif type(i) == dict:\n",
    "\t\t\tfor j in i:\n",
    "\t\t\t\tif type(j) == int and type(i[j]) == int:\n",
    "\t\t\t\t\tlist2.append(j)\n",
    "\t\t\t\t\tlist2.append(i[j])\n",
    "\t\t\t\telif (type(j) == int and type(i[j])==tuple) or (type(j) != int and type(i[j]) == list):\n",
    "\t\t\t\t\tif type(j) == int:\n",
    "\t\t\t\t\t\tlist2.append(j)\n",
    "\t\t\t\t\tfor k in i[j]:\n",
    "\t\t\t\t\t\tif type(k) == int:\n",
    "\t\t\t\t\t\t\tlist2.append(k)\n",
    "\n",
    "list1 = [1,2,3,4, [44,55,66, True], False, (34,56,78,89,34), {1,2,3,3,2,1}, {1:34, \"key2\": [55, 67, 78, 89], 4: (45, 22, 61, 34)}, [56, 'data science'], 'Machine Learning']\n",
    "func(list1)\n",
    "print(list2)\n",
    "product_of_number = reduce(lambda x,y : x*y, list2)\n",
    "print(product_of_number)"
   ]
  },
  {
   "cell_type": "markdown",
   "id": "9ac4e52a",
   "metadata": {},
   "source": [
    "### Q2. Write a python program for encrypting a message sent to you by your friend. The logic of encryption should be such that, for a the output should be z. For b, the output should be y. For c, the output should be x respectively. Also, the whitespace should be replaced with a dollar sign. Keep the punctuation marks unchanged.\n",
    "\n",
    "\n",
    "### Input Sentence: I want to become a Data Scientist.\n",
    "\n",
    "\n",
    "### Encrypt the above input sentence using the program you just created.\n",
    "\n",
    "\n",
    "### Note: Convert the given input sentence into lowercase before encrypting. The final output should be lowercase"
   ]
  },
  {
   "cell_type": "code",
   "execution_count": 3,
   "id": "3f256d92",
   "metadata": {},
   "outputs": [
    {
     "name": "stdout",
     "output_type": "stream",
     "text": [
      "r$dzmg$gl$yvxlnv$z$wzgz$hxrvmgrhg.\n"
     ]
    }
   ],
   "source": [
    "import string\n",
    "msg = \"\"\n",
    "message = \"I want to become a Data Scientist.\"\n",
    "new_message = message.lower().replace(\" \", \"$\")\n",
    "# print(new_message)\n",
    "reverse_alphabat = string.ascii_lowercase[::-1]\n",
    "# print(string.ascii_lowercase)\n",
    "for i in new_message:\n",
    "\t# print(i)\n",
    "\tif i != \"$\" and i != \".\":\n",
    "\t\t# print(i)\n",
    "\t\tindex_value = string.ascii_lowercase.index(i)\n",
    "\t\t# print(index_value)\n",
    "\t\tmsg = msg + reverse_alphabat[index_value]\n",
    "\telif i == \"$\" or i == \".\":\n",
    "\t\tmsg = msg + i\n",
    "print(msg)"
   ]
  }
 ],
 "metadata": {
  "kernelspec": {
   "display_name": "Python 3 (ipykernel)",
   "language": "python",
   "name": "python3"
  },
  "language_info": {
   "codemirror_mode": {
    "name": "ipython",
    "version": 3
   },
   "file_extension": ".py",
   "mimetype": "text/x-python",
   "name": "python",
   "nbconvert_exporter": "python",
   "pygments_lexer": "ipython3",
   "version": "3.9.13"
  }
 },
 "nbformat": 4,
 "nbformat_minor": 5
}
