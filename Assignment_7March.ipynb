{
 "cells": [
  {
   "cell_type": "markdown",
   "metadata": {},
   "source": [
    "### Q1. What are the three measures of central tendency?"
   ]
  },
  {
   "cell_type": "markdown",
   "metadata": {},
   "source": [
    "1) Mean: The mean represents the average value of the dataset. It can be calculated as the sum of all the values in the dataset divided by the number of values. In general, it is considered as the arithmetic mean.\n",
    "\n",
    "2) Median: Median is the middle value of the dataset in which the dataset is arranged in the ascending order or in descending order. When the dataset contains an even number of values, then the median value of the dataset can be found by taking the mean of the middle two values.\n",
    "\n",
    "3) Mode: The mode represents the frequently occurring value in the dataset. Sometimes the dataset may contain multiple modes and in some cases, it does not contain any mode at all."
   ]
  },
  {
   "cell_type": "markdown",
   "metadata": {},
   "source": [
    "### Q2. What is the difference between the mean, median, and mode? How are they used to measure the central tendency of a dataset?"
   ]
  },
  {
   "cell_type": "markdown",
   "metadata": {},
   "source": [
    "Mean is the average value of the given observations whereas Median is the middle value of the given observations and Mode is the most repeated value in the given observation.\n",
    "\n",
    "1) Mean:\n",
    "    \n",
    "   Example: To find the average of the four numbers 2, 4, 6, and 8, we need to add the number first.\n",
    "2 + 4 + 6+ 8 = 20\n",
    "Divide the sum by the total number of numbers, i. e 4.\n",
    "20/4 = 5 is the average or mean\n",
    "\n",
    "\n",
    "2) Medain: \n",
    "  \n",
    "   Example: 4, 2, 8, 10, 19.\n",
    "Arrange the numbers in ascending order. i .e., 2, 4, 8, 10, 19.\n",
    "As the total numbers are 5, so the middle number 8 is the median here.\n",
    "\n",
    "3) Mode: \n",
    "   \n",
    "   Example: 3, 3, 5, 6, 7, 7, 8, 1, 1, 1, 4, 5, 6.\n",
    "Find the frequency of each number.\n",
    "For number 3, it’s 2. For 5, it’s 2. For 6, it’s 2. For 7, it’s 2. For 8, it’s one. For 1, it’s 3. For 4, it’s 1.\n",
    "The number with the highest frequency is the mode. Hence, the mode of the given sequence of numbers is 1."
   ]
  },
  {
   "cell_type": "markdown",
   "metadata": {},
   "source": [
    "### Q3. Measure the three measures of central tendency for the given height data [178,177,176,177,178.2,178,175,179,180,175,178.9,176.2,177,172.5,178,176.5]"
   ]
  },
  {
   "cell_type": "markdown",
   "metadata": {},
   "source": [
    "a) Mean: 178+177+176+177+178.2+178+175+179+180+175+178.9+176.2+177+172.5+178+176.5 = 2832.3/16 = 177.01\n",
    "\n",
    "b) Median: There is 16 count of data and middle index is at 8th and 9th and value is 179,180 there there is two middle value is then fine average of these values 179+180 = 359/2 = 179.5\n",
    "\n",
    "c) Mode: According to mode maximum frequency in whole dataset is 178 and 177 which are modes of given dataset."
   ]
  },
  {
   "cell_type": "markdown",
   "metadata": {},
   "source": [
    "### Q4. Find the standard deviation for the given data [178,177,176,177,178.2,178,175,179,180,175,178.9,176.2,177,172.5,178,176.5]"
   ]
  },
  {
   "cell_type": "code",
   "execution_count": 1,
   "metadata": {},
   "outputs": [
    {
     "data": {
      "text/plain": [
       "0    1.847239\n",
       "dtype: float64"
      ]
     },
     "execution_count": 1,
     "metadata": {},
     "output_type": "execute_result"
    }
   ],
   "source": [
    "import pandas as pd\n",
    "\n",
    "x = [178,177,176,177,178.2,178,175,179,180,175,178.9,176.2,177,172.5,178,176.5]\n",
    "df = pd.DataFrame(x)\n",
    "df.std()"
   ]
  },
  {
   "cell_type": "markdown",
   "metadata": {},
   "source": [
    "### Q5. How are measures of dispersion such as range, variance, and standard deviation used to describe the spread of a dataset? Provide an example."
   ]
  },
  {
   "cell_type": "markdown",
   "metadata": {},
   "source": [
    "Measures of dispersion such as range, variance, and standard deviation are used to describe the spread or variability of a dataset. They give an idea of how spread out the data points are from the central tendency.\n",
    "\n",
    "Range: The range is the difference between the maximum and minimum values in a dataset. It gives a rough estimate of the spread of the data. For example, if we have a dataset of test scores with a range of 40, we can say that the scores are spread out over a range of 40 points.\n",
    "\n",
    "Variance: The variance is the average of the squared differences from the mean. It measures how much the data points deviate from the mean. A higher variance indicates a greater spread of the data. For example, if we have a dataset of the heights of students in a class with a variance of 4, we can say that the heights of the students are spread out over a range of 2 cm on either side of the mean.\n",
    "\n",
    "Standard deviation: The standard deviation is the square root of the variance. It measures the spread of the data in the same units as the original data. A higher standard deviation indicates a greater spread of the data. For example, if we have a dataset of the weights of apples in a basket with a standard deviation of 2 kg, we can say that the weights of the apples are spread out over a range of 4 kg on either side of the mean.\n",
    "\n",
    "As an example, consider the following dataset of test scores:\n",
    "\n",
    "[85, 90, 75, 80, 95, 70, 85, 90, 80, 75]\n",
    "\n",
    "The mean score is 82, and we can calculate the measures of dispersion as follows:\n",
    "\n",
    "Range: The range is the difference between the maximum and minimum values, which is 25 (95 - 70). Variance: The variance is the average of the squared differences from the mean, which is 62.5. Standard deviation: The standard deviation is the square root of the variance, which is approximately 7.91."
   ]
  },
  {
   "cell_type": "markdown",
   "metadata": {},
   "source": [
    "### Q6. What is a Venn diagram?"
   ]
  },
  {
   "cell_type": "markdown",
   "metadata": {},
   "source": [
    "A Venn diagram uses overlapping circles or other shapes to illustrate the logical relationships between two or more sets of items. Often, they serve to graphically organize things, highlighting how the items are similar and different."
   ]
  },
  {
   "cell_type": "markdown",
   "metadata": {},
   "source": [
    "### Q7. For the two given sets A = (2,3,4,5,6,7) & B = (0,2,6,8,10). Find: (i) A ⋂ B (ii) A ⋃ B"
   ]
  },
  {
   "cell_type": "code",
   "execution_count": 2,
   "metadata": {},
   "outputs": [
    {
     "name": "stdout",
     "output_type": "stream",
     "text": [
      "Intersection of A and B: {2, 6}\n",
      "Union of A and B: {0, 2, 3, 4, 5, 6, 7, 8, 10}\n"
     ]
    }
   ],
   "source": [
    "A = {2, 3, 4, 5, 6, 7}\n",
    "B = {0, 2, 6, 8, 10}\n",
    "\n",
    "# Intersection of A and B\n",
    "intersection = A.intersection(B)\n",
    "print(\"Intersection of A and B:\", intersection)\n",
    "\n",
    "# Union of A and B\n",
    "union = A.union(B)\n",
    "print(\"Union of A and B:\", union)"
   ]
  },
  {
   "cell_type": "markdown",
   "metadata": {},
   "source": [
    "### Q8. What do you understand about skewness in data?"
   ]
  },
  {
   "cell_type": "markdown",
   "metadata": {},
   "source": [
    " Skewness is a measurement of the distortion of symmetrical distribution or asymmetry in a data set. Skewness is demonstrated on a bell curve when data points are not distributed symmetrically to the left and right sides of the median on a bell curve."
   ]
  },
  {
   "cell_type": "markdown",
   "metadata": {},
   "source": [
    "### Q9. If a data is right skewed then what will be the position of median with respect to mean?"
   ]
  },
  {
   "cell_type": "markdown",
   "metadata": {},
   "source": [
    "If a data is right skewed then the position of median will be left with respect to mean."
   ]
  },
  {
   "cell_type": "markdown",
   "metadata": {},
   "source": [
    "### Q10. Explain the difference between covariance and correlation. How are these measures used in statistical analysis?"
   ]
  },
  {
   "cell_type": "markdown",
   "metadata": {},
   "source": [
    "Covariance is a measure to indicate the extent to which two random variables change in tandem. The value of covariance lies in the range of -∞ and +∞. Covariance shows you how the two variables differ. covariance is only useful to find the direction of the relationship between two variables and not the magnitude. \n",
    "\n",
    "Correlation is a measure used to represent how strongly two random variables are related to each other. The value of covariance lies in the ranges between -1 and +1. When the correlation coefficient is positive, an increase in one variable also increases the other. When the correlation coefficient is negative, the changes in the two variables are in opposite directions."
   ]
  },
  {
   "cell_type": "markdown",
   "metadata": {},
   "source": [
    "### Q11. What is the formula for calculating the sample mean? Provide an example calculation for a dataset."
   ]
  },
  {
   "cell_type": "markdown",
   "metadata": {},
   "source": [
    "The formula for calculating the sample mean is:\n",
    "\n",
    "Sample Mean = (Sum of all observations) / (Number of observations) In other words, the sample mean is calculated by adding up all the values in a sample and dividing by the number of observations in the sample.\n",
    "\n",
    "Here is an example calculation:\n",
    "\n",
    "Suppose we have the following dataset: [4, 7, 9, 12, 15]\n",
    "\n",
    "To calculate the sample mean, we add up all the values and divide by the number of observations:\n",
    "\n",
    "Sample Mean = (4 + 7 + 9 + 12 + 15) / 5 = 47 / 5 = 9.4\n",
    "\n",
    "Therefore, the sample mean for this dataset is 9.4"
   ]
  },
  {
   "cell_type": "markdown",
   "metadata": {},
   "source": [
    "### Q12. For a normal distribution data what is the relationship between its measure of central tendency?"
   ]
  },
  {
   "cell_type": "markdown",
   "metadata": {},
   "source": [
    "For a normal distribution, the measures of central tendency, namely the mean, median, and mode, are all equal. In other words, they have the same value. \n",
    "\n",
    "mean = median = mode"
   ]
  },
  {
   "cell_type": "markdown",
   "metadata": {},
   "source": [
    "### Q13. How is covariance different from correlation ?"
   ]
  },
  {
   "cell_type": "markdown",
   "metadata": {},
   "source": [
    "Covariance is a measure to indicate the extent to which two random variables change in tandem. The value of covariance lies in the range of -∞ and +∞. whereas Correlation is a measure used to represent how strongly two random variables are related to each other. The value of covariance lies in the ranges between -1 and +1."
   ]
  },
  {
   "cell_type": "markdown",
   "metadata": {},
   "source": [
    "### Q14. How do outliers affect measures of central tendency and dispersion? Provide an example."
   ]
  },
  {
   "cell_type": "markdown",
   "metadata": {},
   "source": [
    "Outliers are data points that are significantly different from other observations in a dataset. Outliers can have a significant impact on measures of central tendency and dispersion.\n",
    "\n",
    "Measures of central tendency, such as the mean, are affected by outliers because they are calculated using all the data points in the dataset. If there are outliers present, they can significantly pull the mean in one direction or another, causing it to be an inaccurate representation of the center of the dataset.\n",
    "\n",
    "For example, suppose we have the following dataset: [2, 3, 4, 5, 6, 7, 100]. The mean of this dataset is (2+3+4+5+6+7+100) / 7 = 18.43. However, the outlier value of 100 is significantly larger than all the other values in the dataset, which makes the mean an inaccurate representation of the center of the dataset.\n",
    "\n",
    "Outliers can also affect measures of dispersion, such as the range, variance, and standard deviation. Outliers can increase the range of the dataset, which makes it difficult to interpret the spread of the data. Outliers can also increase the variance and standard deviation, which makes the spread of the data appear larger than it actually is.\n",
    "\n",
    "For example, suppose we have the following dataset: [2, 3, 4, 5, 6, 7, 100]. The range of this dataset is 98, which makes the spread of the data appear much larger than it actually is. The variance of this dataset is 1372.8, which is also significantly larger than it would be if the outlier were not present."
   ]
  }
 ],
 "metadata": {
  "kernelspec": {
   "display_name": "Python 3 (ipykernel)",
   "language": "python",
   "name": "python3"
  },
  "language_info": {
   "codemirror_mode": {
    "name": "ipython",
    "version": 3
   },
   "file_extension": ".py",
   "mimetype": "text/x-python",
   "name": "python",
   "nbconvert_exporter": "python",
   "pygments_lexer": "ipython3",
   "version": "3.8.3"
  }
 },
 "nbformat": 4,
 "nbformat_minor": 4
}
