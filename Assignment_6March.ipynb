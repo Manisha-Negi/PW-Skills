{
 "cells": [
  {
   "cell_type": "markdown",
   "metadata": {},
   "source": [
    "### Q1. What is Statistics?"
   ]
  },
  {
   "cell_type": "markdown",
   "metadata": {},
   "source": [
    "Statistics is a branch that deals with every aspect of the data. Statistical knowledge helps to choose the proper method of collecting the data and employ those samples in the correct analysis process in order to effectively produce the results."
   ]
  },
  {
   "cell_type": "markdown",
   "metadata": {},
   "source": [
    "### Q2. Define the different types of statistics and give an example of when each type might be used?"
   ]
  },
  {
   "cell_type": "markdown",
   "metadata": {},
   "source": [
    "There are two kinds of Statistics, which are descriptive Statistics and inferential Statistics. In descriptive Statistics, the Data or Collection Data are described in a summarized way, whereas in inferential Statistics, we make use of it in order to explain the descriptive kind."
   ]
  },
  {
   "cell_type": "markdown",
   "metadata": {},
   "source": [
    "### Q3.  What are the different types of data and how do they differ from each other? Provide an example of each type of data."
   ]
  },
  {
   "cell_type": "markdown",
   "metadata": {},
   "source": [
    "There are the following types of known forms of data:"
   ]
  },
  {
   "cell_type": "markdown",
   "metadata": {},
   "source": [
    "1) Qualitative Data: Qualitative data is used to represent some characteristics or attributes of the data.It is two types. Ex- Intelligence\n",
    "\n",
    "    a) Nominal Data:  It is used to label the variables without providing the numerical value for them. Nominal data attributes can’t either be ordered or measured. Ex- Gender (Women, Men)\n",
    "\n",
    "    b) Ordinal Data: Ordinal data/variable is the specific type of data that follows a natural order.  The difference between the data values is not determined in the case of nominal data. Ex- Letter grades: A, B, C, and etc\n",
    "    \n",
    "2) Quantitative Data: Quantitative data can be measured and is not just observable. The measurement of data is numerically recorded and represented. It is also two types.\n",
    "   \n",
    "    a) Discrete Data: Discrete data refers to the data values which can only attain certain specific values. Discrete data can’t attain a range of values. Ex- The number of students in a class\n",
    "   \n",
    "    b) Continuous Data: Continuous Data can contain values between a certain range that is within the highest and lowest values. The corresponding difference between the highest and lowest value of these intervals can be termed as the range of data. Ex- Height and weight of a student."
   ]
  },
  {
   "cell_type": "markdown",
   "metadata": {},
   "source": [
    "### Q4. Categorise the following datasets with respect to quantitative and qualitative data types."
   ]
  },
  {
   "cell_type": "markdown",
   "metadata": {},
   "source": [
    "### (i)\tGrading in exam: A+, A, B+, B, C+, C, D, E"
   ]
  },
  {
   "cell_type": "markdown",
   "metadata": {},
   "source": [
    "Qualtitative Datatypes(Ordinal)"
   ]
  },
  {
   "cell_type": "markdown",
   "metadata": {},
   "source": [
    "### (ii) Colour of mangoes: yellow, green, orange, red"
   ]
  },
  {
   "cell_type": "markdown",
   "metadata": {},
   "source": [
    "Qualtitative Datatypes(Nominal)"
   ]
  },
  {
   "cell_type": "markdown",
   "metadata": {},
   "source": [
    "### (iii)\tHeight data of a class: [178.9, 179, 179.5, 176, 177.2, 178.3, 175.8,...]"
   ]
  },
  {
   "cell_type": "markdown",
   "metadata": {},
   "source": [
    "Quantitative Datatypes(Continuous)"
   ]
  },
  {
   "cell_type": "markdown",
   "metadata": {},
   "source": [
    "### (iv)\tNumber of mangoes exported by a farm: [500, 600, 478, 672, …]"
   ]
  },
  {
   "cell_type": "markdown",
   "metadata": {},
   "source": [
    "Quantitative Datatypes(Discrete)"
   ]
  },
  {
   "cell_type": "markdown",
   "metadata": {},
   "source": [
    "### Q5. Explain the concept of levels of measurement and give an example of a variable for each level."
   ]
  },
  {
   "cell_type": "markdown",
   "metadata": {},
   "source": [
    "Levels of measurement, also called scales of measurement, tell you how precisely variables are recorded. In scientific research, a variable is anything that can take on different values across your data set (e.g., height or test scores).\n",
    "\n",
    "There are 4 levels of measurement:\n",
    "\n",
    "Nominal: the data can only be categorized. Ex- City of birth\n",
    "    \n",
    "Ordinal: the data can be categorized and ranked. Ex- Top 5 Olympic medallists\n",
    "    \n",
    "Interval: the data can be categorized, ranked, and evenly spaced. Ex- Test scores (e.g., IQ or exams)\n",
    "    \n",
    "Ratio: the data can be categorized, ranked, evenly spaced, and has a natural zero. Ex- Heigh"
   ]
  },
  {
   "cell_type": "markdown",
   "metadata": {},
   "source": [
    "### Q6. Why is it important to understand the level of measurement when analyzing data? Provide an example to illustrate your answer."
   ]
  },
  {
   "cell_type": "markdown",
   "metadata": {},
   "source": [
    "It is important to understand the level of measurement of variables in research, because the level of measurement determines the type of statistical analysis that can be conducted, and, therefore, the type of conclusions that can be drawn from the research."
   ]
  },
  {
   "cell_type": "markdown",
   "metadata": {},
   "source": [
    "### Q7. How nominal data type is different from ordinal data type."
   ]
  },
  {
   "cell_type": "markdown",
   "metadata": {},
   "source": [
    "Nominal data is a group of non-parametric variables, whereas Ordinal data is a group of non-parametric ordered variables. Ordinal data is analyzed by mode, median, quartiles, and percentile, whereas nominal data is analyzed by grouping variables into categories and calculating the distribution mode."
   ]
  },
  {
   "cell_type": "markdown",
   "metadata": {},
   "source": [
    "### Q8. Which type of plot can be used to display data in terms of range?"
   ]
  },
  {
   "cell_type": "markdown",
   "metadata": {},
   "source": [
    "Histogram type of plot can be used to display data in terms of range."
   ]
  },
  {
   "cell_type": "markdown",
   "metadata": {},
   "source": [
    "### Q9. Describe the difference between descriptive and inferential statistics. Give an example of each type of statistics and explain how they are used?"
   ]
  },
  {
   "cell_type": "markdown",
   "metadata": {},
   "source": [
    "Descriptive statistics summarize the features or characteristics of a data set, while Inferential statistics enables the user to test a hypothesis to check if the data is generalizable to the wider population.\n",
    "\n",
    "Example of Descriptive Statistics: Measures of centre tendency (mean, median, mode), measures of variability (range, variance, standard deviation), frequency distributions, histograms, scatterplots, and box plots are examples of descriptive statistics tools.\n",
    "\n",
    "Example of Inferential Statistics: Regression analysis, confidence ranges, and hypothesis testing. For instance, you could use inferential statistics to assess whether there is a significant difference in the outcomes of patients who receive the drug compared to those who receive a placebo if you want to know if a new drug is effective."
   ]
  },
  {
   "cell_type": "markdown",
   "metadata": {},
   "source": [
    "### Q10. What are some common measures of central tendency and variability used in statistics? Explain how each measure can be used to describe a dataset."
   ]
  },
  {
   "cell_type": "markdown",
   "metadata": {},
   "source": [
    "Measures of Central Tendency\n",
    "\n",
    "1) Mean: The sum of all measurements divided by the number of observations.Can be used with discrete and continuous data. It is value that is most common\n",
    "\n",
    "2) Median: The middle value that separates the higher half from the lower half. Mean and median can be compared with each other to determine if the population is of normal distribution or not. Numbers are arranged in either ascending or descending order. The middle number is than taken.\n",
    "\n",
    "3) Mode: The most frequent value. It shows most popular option and is the highest bar in histogram.Example of use: to determine the most common blood group.\n",
    "\n",
    "Variability (dispersion): dispersion is contrasted with location or central tendency, and together they are the most used properties of distributions\n",
    "\n",
    "Measures of variability:\n",
    "\n",
    "1) Variance: A measure of how far a set of numbers are spread out from each other. It describes how far the numbers lie from the mean (expected value). It is the square of standard deviation.\n",
    "\n",
    "2) Standard deviation (SD): it is only used for data that are “normally distributed”. SD indicates how much a set of values is spread around the average.[2] SD is determined by the variance (SD=the root of the variance)."
   ]
  }
 ],
 "metadata": {
  "kernelspec": {
   "display_name": "Python 3 (ipykernel)",
   "language": "python",
   "name": "python3"
  },
  "language_info": {
   "codemirror_mode": {
    "name": "ipython",
    "version": 3
   },
   "file_extension": ".py",
   "mimetype": "text/x-python",
   "name": "python",
   "nbconvert_exporter": "python",
   "pygments_lexer": "ipython3",
   "version": "3.8.3"
  }
 },
 "nbformat": 4,
 "nbformat_minor": 4
}
