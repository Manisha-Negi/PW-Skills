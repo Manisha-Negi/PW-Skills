{
 "cells": [
  {
   "cell_type": "markdown",
   "id": "7c90c503",
   "metadata": {},
   "source": [
    "### Question1"
   ]
  },
  {
   "cell_type": "code",
   "execution_count": 1,
   "id": "af8c141b",
   "metadata": {},
   "outputs": [
    {
     "name": "stdout",
     "output_type": "stream",
     "text": [
      "Enter percentage: 90\n",
      "B\n"
     ]
    }
   ],
   "source": [
    "Given_marks = int(input(\"Enter percentage: \"))\n",
    "if Given_marks > 90:\n",
    "\tprint(\"A\")\n",
    "elif Given_marks > 80 and Given_marks<=90:\n",
    "\tprint(\"B\")\n",
    "elif Given_marks >= 60 and Given_marks <=80:\n",
    "\tprint(\"C\")\n",
    "elif Given_marks < 60:\n",
    "\tprint(\"D\")\n",
    "else:\n",
    "\tprint(\"Enter valid percentage\")"
   ]
  },
  {
   "cell_type": "markdown",
   "id": "5836f183",
   "metadata": {},
   "source": [
    "### Question2"
   ]
  },
  {
   "cell_type": "code",
   "execution_count": 2,
   "id": "e2e098f4",
   "metadata": {},
   "outputs": [
    {
     "name": "stdout",
     "output_type": "stream",
     "text": [
      "Enter Bike Price: 500\n",
      "25.0\n"
     ]
    }
   ],
   "source": [
    "Given_Price = int(input(\"Enter Bike Price: \"))\n",
    "if Given_Price > 100000:\n",
    "\tTax = 15/100*Given_Price\n",
    "\n",
    "elif Given_Price > 50000 and Given_Price <= 100000:\n",
    "\tTax = 10/100*Given_Price\n",
    "\n",
    "elif  Given_Price <= 50000:\n",
    "\tTax = 5/100*Given_Price\n",
    "else:\n",
    "\tTax = \"Enter Valid price\"\n",
    "\n",
    "print(Tax)"
   ]
  },
  {
   "cell_type": "markdown",
   "id": "e951626b",
   "metadata": {},
   "source": [
    "### Question3"
   ]
  },
  {
   "cell_type": "code",
   "execution_count": 3,
   "id": "149871f7",
   "metadata": {},
   "outputs": [
    {
     "name": "stdout",
     "output_type": "stream",
     "text": [
      "Enter City: Delhi\n",
      "Red Fort\n"
     ]
    }
   ],
   "source": [
    "Given_City = input(\"Enter City: \")\n",
    "if Given_City == \"Delhi\":\n",
    "\tprint(\"Red Fort\")\n",
    "elif Given_City == \"Agra\":\n",
    "\tprint(\"Taj Mahal\")\n",
    "elif Given_City == \"Jaipur\":\n",
    "\tprint(\"Jal Mahal\")\n",
    "else:\n",
    "\tprint(\"Enter valid City\")"
   ]
  },
  {
   "cell_type": "markdown",
   "id": "219b6d21",
   "metadata": {},
   "source": [
    "### Q4. Check how many times a given number can be divided by 3 before it is less than or equal to 10? "
   ]
  },
  {
   "cell_type": "code",
   "execution_count": 6,
   "id": "0c200d05",
   "metadata": {},
   "outputs": [
    {
     "name": "stdout",
     "output_type": "stream",
     "text": [
      "Enter number:15\n",
      "Number of counts: 1\n"
     ]
    }
   ],
   "source": [
    "Given_number = int(input(\"Enter number:\"))\n",
    "count = 0\n",
    "while Given_number > 10:\n",
    "\tGiven_number = Given_number/3\n",
    "\tcount += 1\n",
    "print(\"Number of counts:\",count)"
   ]
  },
  {
   "cell_type": "markdown",
   "id": "69b47373",
   "metadata": {},
   "source": [
    "### Q5. Why and When to use while loop in python give a detailed description with example"
   ]
  },
  {
   "cell_type": "markdown",
   "id": "40b7e704",
   "metadata": {},
   "source": [
    "A \"While\" Loop is used to repeat a specific block of code an unknown number of times, until a condition is met. For example, if we want to ask a user for a number between 1 and 10, we don't know how many times the user may enter a larger number, so we keep asking \"while the number is not between 1 and 10\"."
   ]
  },
  {
   "cell_type": "markdown",
   "id": "8866763e",
   "metadata": {},
   "source": [
    "### Q6. Use nested while loop to print 3 different pattern?"
   ]
  },
  {
   "cell_type": "code",
   "execution_count": 10,
   "id": "e2e51769",
   "metadata": {},
   "outputs": [
    {
     "name": "stdout",
     "output_type": "stream",
     "text": [
      "1  \n",
      "1 2  \n",
      "1 2 3  \n",
      "1 2 3 4  \n",
      "1 2 3 4 5  \n"
     ]
    }
   ],
   "source": [
    "i = 1\n",
    "while i <= 5:\n",
    "\tj = 1\n",
    "\twhile j<= i:\n",
    "\t\tprint(j, end=\" \")\n",
    "\t\tj = j+1\n",
    "\tprint(\" \")\n",
    "\ti = i+1"
   ]
  },
  {
   "cell_type": "code",
   "execution_count": 11,
   "id": "fca770bd",
   "metadata": {},
   "outputs": [
    {
     "name": "stdout",
     "output_type": "stream",
     "text": [
      "* * * * *  \n",
      "* * * *  \n",
      "* * *  \n",
      "* *  \n",
      "*  \n"
     ]
    }
   ],
   "source": [
    "i = 1\n",
    "n = 5\n",
    "while i <= n:\n",
    "\tj = n\n",
    "\twhile j>= i:\n",
    "\t\tprint(\"*\", end=\" \")\n",
    "\t\tj = j-1\n",
    "\tprint(\" \")\n",
    "\ti = i+1"
   ]
  },
  {
   "cell_type": "code",
   "execution_count": 12,
   "id": "e0f12657",
   "metadata": {},
   "outputs": [
    {
     "name": "stdout",
     "output_type": "stream",
     "text": [
      "  1 \n",
      "  2   3 \n",
      "  4   5   6 \n",
      "  7   8   9  10 \n",
      " 11  12  13  14  15 \n"
     ]
    }
   ],
   "source": [
    "n = 5\n",
    "k = 1\n",
    "i =1\n",
    "while  i <= n:\n",
    "\tj = 1\n",
    "\twhile j <= i:\n",
    "\t\tprint(\"{:3d}\".format(k), end = \" \")\n",
    "\t\tj += 1\n",
    "\t\tk += 1\n",
    "\tprint()\n",
    "\ti += 1"
   ]
  },
  {
   "cell_type": "markdown",
   "id": "ad025c13",
   "metadata": {},
   "source": [
    "### Q7. Reverse a while loop to display numbers from 10 to 1 ?"
   ]
  },
  {
   "cell_type": "code",
   "execution_count": 9,
   "id": "711b53ad",
   "metadata": {},
   "outputs": [
    {
     "name": "stdout",
     "output_type": "stream",
     "text": [
      "10\n",
      "9\n",
      "8\n",
      "7\n",
      "6\n",
      "5\n",
      "4\n",
      "3\n",
      "2\n",
      "1\n"
     ]
    }
   ],
   "source": [
    "number = 10\n",
    "while number > 0:\n",
    "\tprint(number)\n",
    "\tnumber = number - 1"
   ]
  }
 ],
 "metadata": {
  "kernelspec": {
   "display_name": "Python 3 (ipykernel)",
   "language": "python",
   "name": "python3"
  },
  "language_info": {
   "codemirror_mode": {
    "name": "ipython",
    "version": 3
   },
   "file_extension": ".py",
   "mimetype": "text/x-python",
   "name": "python",
   "nbconvert_exporter": "python",
   "pygments_lexer": "ipython3",
   "version": "3.9.13"
  }
 },
 "nbformat": 4,
 "nbformat_minor": 5
}
