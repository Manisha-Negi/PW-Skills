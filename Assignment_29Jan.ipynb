{
 "cells": [
  {
   "cell_type": "markdown",
   "id": "6f878dcc",
   "metadata": {},
   "source": [
    "# Q1. Who developed Python Programming Language? "
   ]
  },
  {
   "cell_type": "markdown",
   "id": "a43a6514",
   "metadata": {},
   "source": [
    "Guido van Rossum developed Python Programming Language."
   ]
  },
  {
   "cell_type": "markdown",
   "id": "e5e2d14a",
   "metadata": {},
   "source": [
    "# Q2. Which type of programming does python support?"
   ]
  },
  {
   "cell_type": "markdown",
   "id": "30c3fc4e",
   "metadata": {},
   "source": [
    "Object oriented programming and structured programming python support."
   ]
  },
  {
   "cell_type": "markdown",
   "id": "2bf2dfc1",
   "metadata": {},
   "source": [
    "# Q3. Is python case sensitive when dealing with identifiers?"
   ]
  },
  {
   "cell_type": "markdown",
   "id": "8e67e080",
   "metadata": {},
   "source": [
    "Yes, Python is a case sensitive language."
   ]
  },
  {
   "cell_type": "markdown",
   "id": "fe2f7677",
   "metadata": {},
   "source": [
    "# Q4. What is the correct extension of the python file?"
   ]
  },
  {
   "cell_type": "markdown",
   "id": "70221046",
   "metadata": {},
   "source": [
    ".py is the correct extension of the python file."
   ]
  },
  {
   "cell_type": "markdown",
   "id": "04da0b67",
   "metadata": {},
   "source": [
    "# Q5. Is python code compiled or interpreted?"
   ]
  },
  {
   "cell_type": "markdown",
   "id": "4a384c00",
   "metadata": {},
   "source": [
    "Yes, python code is compiled or interpreted."
   ]
  },
  {
   "cell_type": "markdown",
   "id": "0f131434",
   "metadata": {},
   "source": [
    "# Q6. Name a few blocks of code used to define in python language?"
   ]
  },
  {
   "cell_type": "markdown",
   "id": "b942d5b3",
   "metadata": {},
   "source": [
    "A module, function body and class definition are fews blocks of code used to define in python language."
   ]
  },
  {
   "cell_type": "markdown",
   "id": "664e697b",
   "metadata": {},
   "source": [
    "# Q7. State a character used to give single line comments in python?"
   ]
  },
  {
   "cell_type": "markdown",
   "id": "f1a71fe6",
   "metadata": {},
   "source": [
    " '#' is a character used to give single line comments in python."
   ]
  },
  {
   "cell_type": "markdown",
   "id": "83be3456",
   "metadata": {},
   "source": [
    "# Q8. Mention functions which can help us to find the version of python that we are currently working on?"
   ]
  },
  {
   "cell_type": "markdown",
   "id": "af0a9967",
   "metadata": {},
   "source": [
    "python__version(), sys.version, python --version"
   ]
  },
  {
   "cell_type": "markdown",
   "id": "e1ff703b",
   "metadata": {},
   "source": [
    "# Q9. Python supports the creation of anonymous functions at runtime, using a construct called________"
   ]
  },
  {
   "cell_type": "markdown",
   "id": "b392a8fc",
   "metadata": {},
   "source": [
    "Lambda"
   ]
  },
  {
   "cell_type": "markdown",
   "id": "0f087275",
   "metadata": {},
   "source": [
    "# Q10. What does pip stand for python?"
   ]
  },
  {
   "cell_type": "markdown",
   "id": "d852edee",
   "metadata": {},
   "source": [
    "Pip Install Packages"
   ]
  },
  {
   "cell_type": "markdown",
   "id": "9aceb4f5",
   "metadata": {},
   "source": [
    "# Q11. Mention a few built in functions in python?"
   ]
  },
  {
   "cell_type": "markdown",
   "id": "06e4c0f6",
   "metadata": {},
   "source": [
    "input(), int(), type(), len()"
   ]
  },
  {
   "cell_type": "markdown",
   "id": "4f376e32",
   "metadata": {},
   "source": [
    "# Q12. What is the maximum possible length of an identifier in Python?"
   ]
  },
  {
   "cell_type": "markdown",
   "id": "e918f706",
   "metadata": {},
   "source": [
    "An identifier can have a maximum length of 79 characters in python."
   ]
  },
  {
   "cell_type": "markdown",
   "id": "7f95037d",
   "metadata": {},
   "source": [
    "# Q13. What are the benefits of using Python?"
   ]
  },
  {
   "cell_type": "markdown",
   "id": "80a6a5aa",
   "metadata": {},
   "source": [
    "1) Simple to use and understand."
   ]
  },
  {
   "cell_type": "markdown",
   "id": "d924fe79",
   "metadata": {},
   "source": [
    "2) Intrepreted language."
   ]
  },
  {
   "cell_type": "markdown",
   "id": "70643dac",
   "metadata": {},
   "source": [
    "3) Extensive library."
   ]
  },
  {
   "cell_type": "markdown",
   "id": "bc1eed98",
   "metadata": {},
   "source": [
    "# Q14. How is memory managed in Python?"
   ]
  },
  {
   "cell_type": "markdown",
   "id": "d1bca5f3",
   "metadata": {},
   "source": [
    "Memory in Python is managed by Python Private heap space."
   ]
  },
  {
   "cell_type": "markdown",
   "id": "27c8282d",
   "metadata": {},
   "source": [
    "# Q15. How to install Python on Windows and set path variables?"
   ]
  },
  {
   "cell_type": "markdown",
   "id": "10d2ef0d",
   "metadata": {},
   "source": [
    "Step1) Download the Python Installer and run the installer"
   ]
  },
  {
   "cell_type": "markdown",
   "id": "8aa3983f",
   "metadata": {},
   "source": [
    "Step2) Add python to environment variable in Advance Options dialog which will display during run the installer."
   ]
  },
  {
   "cell_type": "markdown",
   "id": "1679be27",
   "metadata": {},
   "source": [
    "# Q16. Is indentation required in python?"
   ]
  },
  {
   "cell_type": "markdown",
   "id": "9fbc75a4",
   "metadata": {},
   "source": [
    "Yes, Indentation is required in python."
   ]
  }
 ],
 "metadata": {
  "kernelspec": {
   "display_name": "Python 3 (ipykernel)",
   "language": "python",
   "name": "python3"
  },
  "language_info": {
   "codemirror_mode": {
    "name": "ipython",
    "version": 3
   },
   "file_extension": ".py",
   "mimetype": "text/x-python",
   "name": "python",
   "nbconvert_exporter": "python",
   "pygments_lexer": "ipython3",
   "version": "3.9.13"
  }
 },
 "nbformat": 4,
 "nbformat_minor": 5
}
