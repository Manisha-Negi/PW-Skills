{
 "cells": [
  {
   "cell_type": "markdown",
   "id": "decdb58d",
   "metadata": {},
   "source": [
    "# Q1. What is Abstraction in OOps? Explain with an example."
   ]
  },
  {
   "cell_type": "markdown",
   "id": "f65e864f",
   "metadata": {},
   "source": [
    "\n",
    "Abstraction in python is defined as a process of handling complexity by hiding unnecessary information from the user. This is one of the core concepts of object-oriented programming (OOP) languages."
   ]
  },
  {
   "cell_type": "markdown",
   "id": "e2807685",
   "metadata": {},
   "source": [
    "Example:"
   ]
  },
  {
   "cell_type": "code",
   "execution_count": 30,
   "id": "d46cedc0",
   "metadata": {},
   "outputs": [
    {
     "name": "stdout",
     "output_type": "stream",
     "text": [
      "I have 3 sides\n",
      "I have 5 sides\n"
     ]
    }
   ],
   "source": [
    "import abc\n",
    " \n",
    "class Polygon():\n",
    " \n",
    "    @abc.abstractmethod\n",
    "    def noofsides(self):\n",
    "        pass\n",
    " \n",
    "class Triangle(Polygon):\n",
    " \n",
    "    def noofsides(self):\n",
    "        print(\"I have 3 sides\")\n",
    " \n",
    "class Pentagon(Polygon):\n",
    " \n",
    "    def noofsides(self):\n",
    "        print(\"I have 5 sides\")\n",
    " \n",
    "R = Triangle()\n",
    "R.noofsides()\n",
    "\n",
    "R = Pentagon()\n",
    "R.noofsides()"
   ]
  },
  {
   "cell_type": "markdown",
   "id": "7cc59a9f",
   "metadata": {},
   "source": [
    "# Q2. Differentiate between Abstraction and Encapsulation. Explain with an example."
   ]
  },
  {
   "cell_type": "markdown",
   "id": "f601591b",
   "metadata": {},
   "source": [
    "Abstraction is a way of representing some specific data. Encapsulation is a way of hiding the complexity of something and exposing only the parts you wish to expose. For example, if you have a class that has one or more private fields that you use to store the data, then you are in encapsulation."
   ]
  },
  {
   "cell_type": "markdown",
   "id": "8faa65f1",
   "metadata": {},
   "source": [
    "Example of Encapsulation"
   ]
  },
  {
   "cell_type": "code",
   "execution_count": 53,
   "id": "0f0c7e75",
   "metadata": {},
   "outputs": [
    {
     "data": {
      "text/plain": [
       "2023"
      ]
     },
     "execution_count": 53,
     "metadata": {},
     "output_type": "execute_result"
    }
   ],
   "source": [
    "class car:\n",
    "    def __init__(self, year):\n",
    " \n",
    "        # Protected member\n",
    "        self.__year = year\n",
    " \n",
    "c = car(2023)\n",
    "c._car__year"
   ]
  },
  {
   "cell_type": "markdown",
   "id": "6b442759",
   "metadata": {},
   "source": [
    "Example of Abstraction"
   ]
  },
  {
   "cell_type": "code",
   "execution_count": 55,
   "id": "42db83d1",
   "metadata": {},
   "outputs": [
    {
     "name": "stdout",
     "output_type": "stream",
     "text": [
      "I have 3 sides\n"
     ]
    }
   ],
   "source": [
    "import abc\n",
    " \n",
    "class Polygon():\n",
    " \n",
    "    @abc.abstractmethod\n",
    "    def noofsides(self):\n",
    "        pass\n",
    " \n",
    "class Triangle(Polygon):\n",
    " \n",
    "    def noofsides(self):\n",
    "        print(\"I have 3 sides\")\n",
    "R = Triangle()\n",
    "R.noofsides()"
   ]
  },
  {
   "cell_type": "markdown",
   "id": "ab27909b",
   "metadata": {},
   "source": [
    "# Q3. What is abc module in python? Why is it used?"
   ]
  },
  {
   "cell_type": "markdown",
   "id": "84070616",
   "metadata": {},
   "source": [
    "Python does not provide abstract classes. Python comes with a module that provides the base for defining Abstract Base classes(ABC) and that module name is ABC."
   ]
  },
  {
   "cell_type": "code",
   "execution_count": null,
   "id": "9d862e81",
   "metadata": {},
   "outputs": [],
   "source": [
    "abc(abstract base class) is used to create an abstract class in Python."
   ]
  },
  {
   "cell_type": "markdown",
   "id": "45496b8e",
   "metadata": {},
   "source": [
    "# Q4. How can we achieve data abstraction?"
   ]
  },
  {
   "cell_type": "markdown",
   "id": "66f44492",
   "metadata": {},
   "source": [
    "We need to import the abc module, which provides the base for defining Abstract Base classes (ABC). The ABC works by decorating methods of the base class as abstract. It registers concrete classes as the implementation of the abstract base. We use the @abstractmethod decorator to define an abstract method or if we don't provide the definition to the method, it automatically becomes the abstract method."
   ]
  },
  {
   "cell_type": "markdown",
   "id": "7811d20f",
   "metadata": {},
   "source": [
    "# Q5. Can we create an instance of an abstract class? Explain your answer."
   ]
  },
  {
   "cell_type": "markdown",
   "id": "ac9f6f50",
   "metadata": {},
   "source": [
    "No, you are not creating the instance of your abstract class here. Rather you are creating an instance of an anonymous subclass of your abstract class. And then you are invoking the method on your abstract class reference pointing to subclass object. As for explanation, considered above example ,where we create Car class . We first create subclasses for this class Car and then invoke abstract method of Car in subclasses"
   ]
  }
 ],
 "metadata": {
  "kernelspec": {
   "display_name": "Python 3 (ipykernel)",
   "language": "python",
   "name": "python3"
  },
  "language_info": {
   "codemirror_mode": {
    "name": "ipython",
    "version": 3
   },
   "file_extension": ".py",
   "mimetype": "text/x-python",
   "name": "python",
   "nbconvert_exporter": "python",
   "pygments_lexer": "ipython3",
   "version": "3.9.13"
  }
 },
 "nbformat": 4,
 "nbformat_minor": 5
}
