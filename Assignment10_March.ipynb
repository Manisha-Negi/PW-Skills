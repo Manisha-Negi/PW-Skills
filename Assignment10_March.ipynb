{
 "cells": [
  {
   "cell_type": "markdown",
   "id": "992f7848",
   "metadata": {},
   "source": [
    "# Q1: What is Estimation Statistics? Explain point estimate and interval estimate."
   ]
  },
  {
   "cell_type": "markdown",
   "id": "16f2595c",
   "metadata": {},
   "source": [
    "Estimation statistics, or simply estimation, is a data analysis framework that uses a combination of effect sizes, confidence intervals, precision planning, and meta-analysis to plan experiments, analyze data and interpret results.\n",
    "\n",
    "Point Estimate: A point estimate is a single value estimate of a parameter. For instance, a sample mean is a point estimate of a population mean. \n",
    "\n",
    "Interval Estimate: An interval estimate gives you a range of values where the parameter is expected to lie. A confidence interval is the most common type of interval estimate."
   ]
  },
  {
   "cell_type": "markdown",
   "id": "dedbf8e1",
   "metadata": {},
   "source": [
    "# Q2. Write a Python function to estimate the population mean using a sample mean and standard deviation."
   ]
  },
  {
   "cell_type": "code",
   "execution_count": 1,
   "id": "34d5b771",
   "metadata": {},
   "outputs": [
    {
     "name": "stdout",
     "output_type": "stream",
     "text": [
      "Population mean: 2.0\n"
     ]
    }
   ],
   "source": [
    "import math\n",
    "\n",
    "def population_mean(sample_mean, sample_std, sample_size):\n",
    "    std_error = sample_std / math.sqrt(sample_size)\n",
    "    z_value = 1.96 # assume a 95% confidence level and use the corresponding z-value\n",
    "    margin_of_error = z_value * std_error \n",
    "    lower_bound = sample_mean - margin_of_error \n",
    "    upper_bound = sample_mean + margin_of_error \n",
    "    return ((lower_bound + upper_bound) / 2)\n",
    "    \n",
    "result = population_mean(2,5,20000)\n",
    "\n",
    "print(f\"Population mean: {result}\")"
   ]
  },
  {
   "cell_type": "markdown",
   "id": "02a1f8ed",
   "metadata": {},
   "source": [
    "# Q3: What is Hypothesis testing? Why is it used? State the importance of Hypothesis testing."
   ]
  },
  {
   "cell_type": "markdown",
   "id": "4de6a477",
   "metadata": {},
   "source": [
    "Hypothesis testing is a systematic procedure for deciding whether the results of a research study support a particular theory which applies to a population. Hypothesis testing uses sample data to evaluate a hypothesis about a population.\n",
    "\n",
    "Hypothesis testing is the process used to evaluate the strength of evidence from the sample and provides a framework for making determinations related to the population, ie, it provides a method for understanding how reliably one can extrapolate observed findings in a sample under study to the larger population from which the sample was drawn.\n",
    "\n",
    "Hypothesis testing allows the researcher to determine whether the data from the sample is statistically significant. Hypothesis testing is one of the most important processes for measuring the validity and reliability of outcomes in any systematic investigation."
   ]
  },
  {
   "cell_type": "markdown",
   "id": "04a913f8",
   "metadata": {},
   "source": [
    "# Q4. Create a hypothesis that states whether the average weight of male college students is greater than the average weight of female college students."
   ]
  },
  {
   "cell_type": "markdown",
   "id": "e645a591",
   "metadata": {},
   "source": [
    "The null hypothesis would be:\n",
    "\n",
    "H0: The average weight of male college students is not greater than the average weight of female college students.\n",
    "\n",
    "The alternative hypothesis would be:\n",
    "\n",
    "H1: The average weight of male college students is greater than the average weight of female college students."
   ]
  },
  {
   "cell_type": "markdown",
   "id": "2b0e30c2",
   "metadata": {},
   "source": [
    "# Q5. Write a Python script to conduct a hypothesis test on the difference between two population means, given a sample from each population."
   ]
  },
  {
   "cell_type": "code",
   "execution_count": 6,
   "id": "9eb33f83",
   "metadata": {},
   "outputs": [
    {
     "name": "stdout",
     "output_type": "stream",
     "text": [
      "t-statistic:  -6.301000293263986\n",
      "p-value:  1.8790105294705872e-09\n",
      "Reject null hypothesis\n"
     ]
    }
   ],
   "source": [
    "import numpy as np\n",
    "from scipy.stats import ttest_ind\n",
    "\n",
    "# create two random samples\n",
    "sample1 = np.random.normal(10, 2, 100)\n",
    "sample2 = np.random.normal(12, 2, 100)\n",
    "\n",
    "# conduct t-test\n",
    "t_stat, p_val = ttest_ind(sample1, sample2)\n",
    "\n",
    "# print results\n",
    "print(\"t-statistic: \", t_stat)\n",
    "print(\"p-value: \", p_val)\n",
    "\n",
    "# check if p-value is significant at 5% level\n",
    "if p_val < 0.05:\n",
    "    print(\"Reject null hypothesis\")\n",
    "else:\n",
    "    print(\"Fail to reject null hypothesis\")"
   ]
  },
  {
   "cell_type": "markdown",
   "id": "479b041e",
   "metadata": {},
   "source": [
    "# Q6: What is a null and alternative hypothesis? Give some examples."
   ]
  },
  {
   "cell_type": "markdown",
   "id": "00212e53",
   "metadata": {},
   "source": [
    "Null and alternative hypotheses are used in statistical hypothesis testing. The null hypothesis of a test always predicts no effect or no relationship between variables, while the alternative hypothesis states your research prediction of an effect or relationship.\n",
    "\n",
    "Null Hypothesis Example: On the average, the dosage sold under this brand is 50 mg (population mean dosage = 50 mg). \n",
    "\n",
    "Alternative Hypothesis Example: On the average, the dosage sold under this brand is not 50 mg (population mean dosage ≠ 50 mg). This is a two-sided alternative hypothesis."
   ]
  },
  {
   "cell_type": "markdown",
   "id": "ba13abbe",
   "metadata": {},
   "source": [
    "# Q7: Write down the steps involved in hypothesis testing."
   ]
  },
  {
   "cell_type": "markdown",
   "id": "dd016802",
   "metadata": {},
   "source": [
    "Hypothesis testing is a formal procedure for investigating our ideas about the world using statistics. It is most often used by scientists to test specific predictions, called hypotheses, that arise from theories.\n",
    "\n",
    "There are 5 main steps in hypothesis testing:\n",
    "\n",
    "1) State your research hypothesis as a null hypothesis and alternate hypothesis (Ho) and (Ha or H1).\n",
    "\n",
    "2) Collect data in a way designed to test the hypothesis.\n",
    "\n",
    "3) Perform an appropriate statistical test.\n",
    "\n",
    "4) Decide whether to reject or fail to reject your null hypothesis.\n",
    "\n",
    "5) Present the findings in your results and discussion section."
   ]
  },
  {
   "cell_type": "markdown",
   "id": "e20137fe",
   "metadata": {},
   "source": [
    "# Q8. Define p-value and explain its significance in hypothesis testing."
   ]
  },
  {
   "cell_type": "markdown",
   "id": "dcd98e61",
   "metadata": {},
   "source": [
    "The probability that a particular statistical measure, such as the mean or standard deviation, of an assumed probability distribution will be greater than or equal to (or less than or equal to in some instances) observed results.\n",
    "\n",
    "P value of a statistical test is small enough to reject the null hypothesis of the test.The level of statistical significance is usually represented as a P-value between 0 and 1. The smaller the p-value, the more likely it is that you would reject the null hypothesis."
   ]
  },
  {
   "cell_type": "markdown",
   "id": "9550e0cb",
   "metadata": {},
   "source": [
    "# Q9. Generate a Student's t-distribution plot using Python's matplotlib library, with the degrees of freedom parameter set to 10."
   ]
  },
  {
   "cell_type": "code",
   "execution_count": 5,
   "id": "5cd4da4a",
   "metadata": {},
   "outputs": [
    {
     "data": {
      "text/plain": [
       "(array([7.04472560e-04, 1.76118140e-04, 1.05670884e-03, 7.04472560e-04,\n",
       "        6.16413490e-03, 1.17999154e-02, 3.34624466e-02, 7.30890281e-02,\n",
       "        1.77350967e-01, 2.83021851e-01, 3.71785394e-01, 3.53116871e-01,\n",
       "        2.44451978e-01, 1.22225989e-01, 4.80802522e-02, 2.34237126e-02,\n",
       "        6.86860746e-03, 2.46565396e-03, 1.05670884e-03, 1.76118140e-04]),\n",
       " array([-6.11314958, -5.5453489 , -4.97754822, -4.40974753, -3.84194685,\n",
       "        -3.27414617, -2.70634549, -2.13854481, -1.57074412, -1.00294344,\n",
       "        -0.43514276,  0.13265792,  0.7004586 ,  1.26825929,  1.83605997,\n",
       "         2.40386065,  2.97166133,  3.53946201,  4.1072627 ,  4.67506338,\n",
       "         5.24286406]),\n",
       " <BarContainer object of 20 artists>)"
      ]
     },
     "execution_count": 5,
     "metadata": {},
     "output_type": "execute_result"
    },
    {
     "data": {
      "image/png": "[encoded data removed]",
      "text/plain": [
       "<Figure size 640x480 with 1 Axes>"
      ]
     },
     "metadata": {},
     "output_type": "display_data"
    }
   ],
   "source": [
    "from scipy.stats import t\n",
    "import matplotlib.pyplot as plt\n",
    "\n",
    "#generate t distribution with sample size 10000\n",
    "x = t.rvs(df=10, size=10000)\n",
    "\n",
    "plt.hist(x, density=True, edgecolor='black', bins=20)"
   ]
  },
  {
   "cell_type": "markdown",
   "id": "50ad84f9",
   "metadata": {},
   "source": [
    "# Q10. Write a Python program to calculate the two-sample t-test for independent samples, given two random samples of equal size and a null hypothesis that the population means are equal."
   ]
  },
  {
   "cell_type": "code",
   "execution_count": 2,
   "id": "802baa60",
   "metadata": {},
   "outputs": [
    {
     "name": "stdout",
     "output_type": "stream",
     "text": [
      "t-statistic:  -6.526057019973108\n",
      "p-value:  5.532895277235202e-10\n",
      "Reject null hypothesis\n"
     ]
    }
   ],
   "source": [
    "import numpy as np\n",
    "from scipy.stats import ttest_ind\n",
    "\n",
    "# create two random samples\n",
    "sample1 = np.random.normal(10, 2, 100)\n",
    "sample2 = np.random.normal(12, 2, 100)\n",
    "\n",
    "# conduct t-test\n",
    "t_stat, p_val = ttest_ind(sample1, sample2)\n",
    "\n",
    "# print results\n",
    "print(\"t-statistic: \", t_stat)\n",
    "print(\"p-value: \", p_val)\n",
    "\n",
    "# check if p-value is significant at 5% level\n",
    "if p_val < 0.05:\n",
    "    print(\"Reject null hypothesis\")\n",
    "else:\n",
    "    print(\"Fail to reject null hypothesis\")"
   ]
  },
  {
   "cell_type": "markdown",
   "id": "005d2f42",
   "metadata": {},
   "source": [
    "# Q11: What is Student’s t distribution? When to use the t-Distribution."
   ]
  },
  {
   "cell_type": "markdown",
   "id": "ce8e8003",
   "metadata": {},
   "source": [
    "Student's t-distribution (or simply the t-distribution) is any member of a family of continuous probability distributions that arise when estimating the mean of a normally distributed population in situations where the sample size is small and the population's standard deviation is unknown."
   ]
  },
  {
   "cell_type": "markdown",
   "id": "1d96ed4c",
   "metadata": {},
   "source": [
    "# Q12: What is t-statistic? State the formula for t-statistic."
   ]
  },
  {
   "cell_type": "markdown",
   "id": "596eab53",
   "metadata": {},
   "source": [
    "t-statistic is the ratio of the departure of the estimated value of a parameter from its hypothesized value to its standard error. It is used in hypothesis testing via Student's t-test. The t-statistic is used in a t-test to determine whether to support or reject the null hypothesis. It is very similar to the z-score but with the difference that t-statistic is used when the sample size is small or the population standard deviation is unknown."
   ]
  },
  {
   "cell_type": "markdown",
   "id": "c36e991c",
   "metadata": {},
   "source": [
    "# Q13. A coffee shop owner wants to estimate the average daily revenue for their shop. They take a random sample of 50 days and find the sample mean revenue to be 500 with a standard deviation of 50. Estimate the population mean revenue with a 95% confidence interval."
   ]
  },
  {
   "cell_type": "markdown",
   "id": "4491a97e",
   "metadata": {},
   "source": [
    "To estimate the population mean revenue with a 95% confidence interval, we can use the following formula:\n",
    "\n",
    "Confidence Interval = sample mean ± margin of error\n",
    "\n",
    "where the margin of error is given by:\n",
    "\n",
    "Margin of Error = critical value * standard error\n",
    "\n",
    "The standard error is the standard deviation of the sample divided by the square root of the sample size:\n",
    "\n",
    "Standard Error = standard deviation / sqrt(sample size)\n",
    "\n",
    "Substituting the values given in the problem statement, we get:\n",
    "\n",
    "Standard Error = 50 / sqrt(50) = 7.07 Margin of Error = 1.96 * 7.07 = 13.85\n",
    "\n",
    "Therefore, the 95% confidence interval for the population mean revenue is:\n",
    "\n",
    "500 ± 13.85, or (486.15, 513.85)\n",
    "\n",
    "We can be 95% confident that the true population mean revenue falls within this interval."
   ]
  },
  {
   "cell_type": "markdown",
   "id": "a06c5e1b",
   "metadata": {},
   "source": [
    "# Q14. A researcher hypothesizes that a new drug will decrease blood pressure by 10 mmHg. They conduct a clinical trial with 100 patients and find that the sample mean decrease in blood pressure is 8 mmHg with a standard deviation of 3 mmHg. Test the hypothesis with a significance level of 0.05."
   ]
  },
  {
   "cell_type": "markdown",
   "id": "6afb4e27",
   "metadata": {},
   "source": [
    "The following values are given in the question:\n",
    "\n",
    "Population Mean = 10 Sample Size = n = 100 Sample Mean = 8 Standard Deviation = 3 Significance Level = 0.05 Confidence Interval = 0.95\n",
    "\n",
    "My null and alternate hypothesis are as follows:\n",
    "\n",
    "Null Hypothesis = H0 => Population Mean = 10 Alternate Hypothesis = H1 => Population Mean != 10\n",
    "\n",
    "From utilizing z-table i obgtained values for z-score:\n",
    "\n",
    "z-score = ± 1.96\n",
    "\n",
    "Then I utilized the follwing z-test formula: image.png\n",
    "\n",
    "I got the following value:\n",
    "\n",
    "-0.66\n",
    "\n",
    "As -0.66 lies outside the region ± 1.96, that means it lies in the rejection region. So my final conclusion was:\n",
    "\n",
    "Reject the null hypothesis"
   ]
  },
  {
   "cell_type": "markdown",
   "id": "85561367",
   "metadata": {},
   "source": [
    "# Q15. An electronics company produces a certain type of product with a mean weight of 5 pounds and a standard deviation of 0.5 pounds. A random sample of 25 products is taken, and the sample mean weight is found to be 4.8 pounds. Test the hypothesis that the true mean weight of the products is less than 5 pounds with a significance level of 0.01."
   ]
  },
  {
   "cell_type": "markdown",
   "id": "5c74be84",
   "metadata": {},
   "source": [
    "The following values are given in the question:\n",
    "\n",
    "Population Mean = 5 Sample Size = n = 25 Sample Mean = 4.8 Standard Deviation = 0.5 Significance Level = 0.01 Confidence Interval = 0.99\n",
    "\n",
    "My null and alternate hypothesis are as follows:\n",
    "\n",
    "Null Hypothesis = H0 => Population Mean = 5 Alternate Hypothesis = H1 => Population Mean < 5\n",
    "\n",
    "Then I utilized the follwing z-test formula: image.png\n",
    "\n",
    "I got the following value:\n",
    "\n",
    "-2\n",
    "\n",
    "From utilizing z-table i obgtained values for z-score of -2:\n",
    "\n",
    "z-score = 0.02275\n",
    "\n",
    "Which also becomes my p-value:\n",
    "\n",
    "p-value = 0.02275\n",
    "\n",
    "Then i checked whether p-value < significance value\n",
    "\n",
    "0.02775 < 0.01 False\n",
    "\n",
    "So my final conclusion was:\n",
    "\n",
    "Failed to reject null hypothesis"
   ]
  },
  {
   "cell_type": "markdown",
   "id": "9a877c1e",
   "metadata": {},
   "source": [
    "# Q16. Two groups of students are given different study materials to prepare for a test. The first group (n1 = 30) has a mean score of 80 with a standard deviation of 10, and the second group (n2 = 40) has a mean score of 75 with a standard deviation of 8. Test the hypothesis that the population means for the two groups are equal with a significance level of 0.01."
   ]
  },
  {
   "cell_type": "markdown",
   "id": "1500ba4d",
   "metadata": {},
   "source": [
    "My null and alternate hypothesis are as follows:\n",
    "\n",
    "Null Hypothesis = H0 => Population Mean of Group 1 = Population Mean of Group 2 Alternate Hypothesis = H1 => Population Mean of Group 1 != Population Mean of Group 2\n",
    "\n",
    "I got the value of t as:\n",
    "\n",
    "t = 2.37\n",
    "\n",
    "Then I utilized t-table to look for the value of t for the following parameters:\n",
    "\n",
    "Degrees of Freedom = 68 Significance Value = 0.01\n",
    "\n",
    "I got the following value of t fromt the table:\n",
    "\n",
    "t = ± 2.638\n",
    "\n",
    "Since 2.37 lies in the region ±2.638 so, the final conclusion was:\n",
    "\n",
    "Failed to reject null hypothesis Population mean for two groups are equal"
   ]
  },
  {
   "cell_type": "markdown",
   "id": "3d2c4968",
   "metadata": {},
   "source": [
    "# Q17. A marketing company wants to estimate the average number of ads watched by viewers during a TV program. They take a random sample of 50 viewers and find that the sample mean is 4 with a standard deviation of 1.5. Estimate the population mean with a 99% confidence interval."
   ]
  },
  {
   "cell_type": "markdown",
   "id": "c74934c4",
   "metadata": {},
   "source": [
    "To estimate the population mean with a 99% confidence interval, we can use the following formula:\n",
    "\n",
    "CI = X̄ ± z*(σ/√n)\n",
    "\n",
    "Where:\n",
    "\n",
    "X̄ = sample mean (4) z = z-score corresponding to the confidence level (99%) σ = population standard deviation (1.5) n = sample size (50)\n",
    "\n",
    "To find the z-score, we can use a standard normal distribution table. For a 99% confidence level, the z-score is\n",
    "\n",
    "z-score = 2.576.\n",
    "\n",
    "Plugging in the values, we get:\n",
    "\n",
    "CI = 4 ± 2.576*(1.5/√50) CI = 4 ± 0.665\n",
    "\n",
    "Therefore, the 99% confidence interval for the population mean of the number of ads watched by viewers during a TV program is (3.335, 4.665). We are 99% confident that the true population mean falls within this interval."
   ]
  }
 ],
 "metadata": {
  "kernelspec": {
   "display_name": "Python 3 (ipykernel)",
   "language": "python",
   "name": "python3"
  },
  "language_info": {
   "codemirror_mode": {
    "name": "ipython",
    "version": 3
   },
   "file_extension": ".py",
   "mimetype": "text/x-python",
   "name": "python",
   "nbconvert_exporter": "python",
   "pygments_lexer": "ipython3",
   "version": "3.9.13"
  }
 },
 "nbformat": 4,
 "nbformat_minor": 5
}
