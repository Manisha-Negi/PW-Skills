{
 "cells": [
  {
   "cell_type": "markdown",
   "id": "94f1eacd",
   "metadata": {},
   "source": [
    "# Q1. You are writing code for a company. The requirement of the company is that you create a python function that will check whether the password entered by the user is correct or not. The function should take the password as input and return the string “Valid Password” if the entered password follows the below-given password guidelines else it should return “Invalid Password”.\n",
    "### Note: 1. The Password should contain at least two uppercase letters and at least two lowercase letters.\n",
    "\n",
    "### 2. The Password should contain at least a number and three special characters.\n",
    "\n",
    "### 3. The length of the password should be 10 characters long."
   ]
  },
  {
   "cell_type": "code",
   "execution_count": 3,
   "id": "854b9418",
   "metadata": {},
   "outputs": [
    {
     "name": "stdout",
     "output_type": "stream",
     "text": [
      "Enter password:ManishaNegi@#*123\n",
      "Valid Password\n"
     ]
    }
   ],
   "source": [
    "import re\n",
    "Given_password = input(\"Enter password:\")\n",
    "lower_count = re.findall(\"[a-z]\", Given_password)\n",
    "Upper_count = re.findall(\"[A-Z]\", Given_password)\n",
    "numeric_count = re.findall(\"[0-9]\", Given_password)\n",
    "special_character_count = re.findall(\"[^A-Za-z0-9]\", Given_password)\n",
    "if len(lower_count)>=2 and len(Upper_count)>=2 and len(Given_password)>=10 and len(numeric_count)>=1 and len(special_character_count)>=3:\n",
    "   print(\"Valid Password\")\n",
    "else:\n",
    "\tprint(\"Invalid Password\")"
   ]
  },
  {
   "cell_type": "markdown",
   "id": "7afbedb3",
   "metadata": {},
   "source": [
    "# Q2. Solve the below-given questions using at least one of the following: \n",
    "### 1. Lambda function"
   ]
  },
  {
   "cell_type": "markdown",
   "id": "1efb0264",
   "metadata": {},
   "source": [
    "# a) Check if the string starts with a particular letter."
   ]
  },
  {
   "cell_type": "code",
   "execution_count": 22,
   "id": "07d340c6",
   "metadata": {},
   "outputs": [
    {
     "name": "stdout",
     "output_type": "stream",
     "text": [
      "Enter string:Manisha\n"
     ]
    },
    {
     "data": {
      "text/plain": [
       "True"
      ]
     },
     "execution_count": 22,
     "metadata": {},
     "output_type": "execute_result"
    }
   ],
   "source": [
    "Given_string = input(\"Enter string:\")\n",
    "starts_with = lambda : True if Given_string.startswith('M') else False\n",
    "starts_with()"
   ]
  },
  {
   "cell_type": "markdown",
   "id": "42943bf3",
   "metadata": {},
   "source": [
    "# b) Check if the string is numeric."
   ]
  },
  {
   "cell_type": "code",
   "execution_count": 21,
   "id": "898c3985",
   "metadata": {},
   "outputs": [
    {
     "name": "stdout",
     "output_type": "stream",
     "text": [
      "Enter string:123\n"
     ]
    },
    {
     "data": {
      "text/plain": [
       "True"
      ]
     },
     "execution_count": 21,
     "metadata": {},
     "output_type": "execute_result"
    }
   ],
   "source": [
    "Given_string = input(\"Enter string:\")\n",
    "string = lambda : True if Given_string.isnumeric() else False\n",
    "string()"
   ]
  },
  {
   "cell_type": "markdown",
   "id": "599c4ad2",
   "metadata": {},
   "source": [
    "# c) Sort a list of tuples having fruit names and their quantity. [(\"mango\",99),(\"orange\",80), (\"grapes\", 1000)}"
   ]
  },
  {
   "cell_type": "code",
   "execution_count": 13,
   "id": "db79fad9",
   "metadata": {},
   "outputs": [
    {
     "name": "stdout",
     "output_type": "stream",
     "text": [
      "sorted list:  [('orange', 80), ('mango', 99), ('grapes', 1000)]\n"
     ]
    }
   ],
   "source": [
    "fruits = [(\"mango\",99),(\"orange\",80), (\"grapes\", 1000)]\n",
    "sorted_list = sorted(fruits, key = lambda x : x[1])\n",
    "print(\"sorted list: \",sorted_list)"
   ]
  },
  {
   "cell_type": "markdown",
   "id": "753683cb",
   "metadata": {},
   "source": [
    "# d) Find the squares of numbers from 1 to 10."
   ]
  },
  {
   "cell_type": "code",
   "execution_count": 16,
   "id": "09b56c6d",
   "metadata": {},
   "outputs": [
    {
     "name": "stdout",
     "output_type": "stream",
     "text": [
      "[1, 4, 9, 16, 25, 36, 49, 64, 81, 100]\n"
     ]
    }
   ],
   "source": [
    "list1 = []\n",
    "for i in range(1,11):\n",
    "    \n",
    "    temp=lambda i:i**2\n",
    "  \n",
    "    # save in list2\n",
    "    list1.append(temp(i))\n",
    "  \n",
    "# print list\n",
    "print(list1)"
   ]
  },
  {
   "cell_type": "markdown",
   "id": "8adac925",
   "metadata": {},
   "source": [
    "# e) Find the cube root of numbers from 1 to 10."
   ]
  },
  {
   "cell_type": "code",
   "execution_count": 18,
   "id": "29ab9f65",
   "metadata": {},
   "outputs": [
    {
     "name": "stdout",
     "output_type": "stream",
     "text": [
      "[1, 8, 27, 64, 125, 216, 343, 512, 729, 1000]\n"
     ]
    }
   ],
   "source": [
    "list1 = []\n",
    "for i in range(1,11):\n",
    "    \n",
    "    temp=lambda i:i**3\n",
    "  \n",
    "    # save in list2\n",
    "    list1.append(temp(i))\n",
    "  \n",
    "print(list1)"
   ]
  },
  {
   "cell_type": "markdown",
   "id": "98598fe9",
   "metadata": {},
   "source": [
    "# f) Check if a given number is even."
   ]
  },
  {
   "cell_type": "code",
   "execution_count": 2,
   "id": "f177593e",
   "metadata": {},
   "outputs": [
    {
     "name": "stdout",
     "output_type": "stream",
     "text": [
      "Enter a number:12\n",
      "Even Number\n"
     ]
    }
   ],
   "source": [
    "number = int(input(\"Enter a number:\"))\n",
    "odd_even = lambda : \"Even Number\" if number % 2 == 0 else \"Odd Number\"\n",
    "\n",
    "print(odd_even())"
   ]
  },
  {
   "cell_type": "markdown",
   "id": "1eae5e92",
   "metadata": {},
   "source": [
    "# g)  Filter odd numbers from the given list. [1,2,3,4,5,6,7,8,9,10]"
   ]
  },
  {
   "cell_type": "code",
   "execution_count": 1,
   "id": "c07c4f7c",
   "metadata": {},
   "outputs": [
    {
     "name": "stdout",
     "output_type": "stream",
     "text": [
      "[1, 3, 5, 7, 9]\n"
     ]
    }
   ],
   "source": [
    "list1 =  [1,2,3,4,5,6,7,8,9,10]\n",
    "list2 = []\n",
    "for i in list1:\n",
    "    \n",
    "    temp=lambda i:list2.append(i) if i %2 != 0 else \"Even number\"\n",
    "  \n",
    "    # save in list2\n",
    "    temp(i)\n",
    "  \n",
    "print(list2)"
   ]
  },
  {
   "cell_type": "markdown",
   "id": "1faab725",
   "metadata": {},
   "source": [
    "# h) Sort a list of integers into positive and negative integers lists. [1,2,3,4,5,6,-1,-2,-3,-4,-5,0]"
   ]
  },
  {
   "cell_type": "code",
   "execution_count": 15,
   "id": "a65e0193",
   "metadata": {},
   "outputs": [
    {
     "name": "stdout",
     "output_type": "stream",
     "text": [
      "sorted positive integers: [0, 1, 2, 3, 4, 5, 6]\n",
      "sorted negative integers: [-5, -4, -3, -2, -1]\n"
     ]
    }
   ],
   "source": [
    "list1 =  [1,2,3,4,5,6,-1,-2,-3,-4,-5,0]\n",
    "list2 = []\n",
    "list3 = []\n",
    "for i in list1:\n",
    "    if i >= 0:\n",
    "        list2.append(i)\n",
    "    else:\n",
    "        list3.append(i)\n",
    "temp=sorted(list2, key = lambda x : x)\n",
    "temp1=sorted(list3, key = lambda x : x)\n",
    "\n",
    "print(\"sorted positive integers:\",temp)\n",
    "print(\"sorted negative integers:\",temp1)"
   ]
  }
 ],
 "metadata": {
  "kernelspec": {
   "display_name": "Python 3 (ipykernel)",
   "language": "python",
   "name": "python3"
  },
  "language_info": {
   "codemirror_mode": {
    "name": "ipython",
    "version": 3
   },
   "file_extension": ".py",
   "mimetype": "text/x-python",
   "name": "python",
   "nbconvert_exporter": "python",
   "pygments_lexer": "ipython3",
   "version": "3.9.13"
  }
 },
 "nbformat": 4,
 "nbformat_minor": 5
}
