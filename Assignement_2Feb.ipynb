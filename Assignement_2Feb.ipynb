{
 "cells": [
  {
   "cell_type": "markdown",
   "metadata": {},
   "source": [
    "# Q1. Explain with an example each when to use a for loop and a while loop?"
   ]
  },
  {
   "cell_type": "markdown",
   "metadata": {},
   "source": [
    "For loop: A for loop is a control flow statement that executes code repeatedly for a particular number of iterations. In this control flow statement, the keyword used is for.\n",
    "\n",
    "while loop: A loop that executes a single statement or a group of statements for the given true condition. The keyword used to represent this loop is \"while\". A \"while\" loop is used when the number of iterations is unknown."
   ]
  },
  {
   "cell_type": "code",
   "execution_count": 1,
   "metadata": {},
   "outputs": [
    {
     "name": "stdout",
     "output_type": "stream",
     "text": [
      "1\n",
      "2\n",
      "3\n"
     ]
    }
   ],
   "source": [
    "# For Loop Example\n",
    "n = [1, 2, 3]  \n",
    "for i in n: \n",
    "    print(i)"
   ]
  },
  {
   "cell_type": "code",
   "execution_count": 2,
   "metadata": {},
   "outputs": [
    {
     "name": "stdout",
     "output_type": "stream",
     "text": [
      "1\n",
      "2\n",
      "3\n",
      "4\n",
      "5\n"
     ]
    }
   ],
   "source": [
    "# While Loop Example\n",
    "i = 1\n",
    "while i < 6:  \n",
    "    print(i)\n",
    "    i += 1  "
   ]
  },
  {
   "cell_type": "markdown",
   "metadata": {},
   "source": [
    "# Q2. Write a python program to print the sum and product of the first 10 natural numbers using for and while loop?"
   ]
  },
  {
   "cell_type": "code",
   "execution_count": 3,
   "metadata": {},
   "outputs": [
    {
     "name": "stdout",
     "output_type": "stream",
     "text": [
      "55\n",
      "3628800\n"
     ]
    }
   ],
   "source": [
    "# Sum and Product using For loop\n",
    "num = 10\n",
    "sum = 0\n",
    "product = 1\n",
    "for i in range(1, num+1):\n",
    "  sum+=i\n",
    "  product *= i\n",
    "print(sum)\n",
    "print(product)"
   ]
  },
  {
   "cell_type": "code",
   "execution_count": 4,
   "metadata": {},
   "outputs": [
    {
     "name": "stdout",
     "output_type": "stream",
     "text": [
      "55\n",
      "3628800\n"
     ]
    }
   ],
   "source": [
    "# Sum and Product using While loop\n",
    "num = 10\n",
    "sum = 0\n",
    "product = 1\n",
    "i = 1\n",
    "while i <= num:\n",
    "    sum += i\n",
    "    product *= i\n",
    "    i += 1\n",
    "print(sum)\n",
    "print(product)"
   ]
  },
  {
   "cell_type": "markdown",
   "metadata": {},
   "source": [
    "# Q3. Create a python program to compute the electricity bill for a household.The per-unit charges in rupees are as follows: For the first 100 units, the user will be charged Rs. 4.5 per unit, for the next 100 units, the user will be charged Rs. 6 per unit, and for the next 100 units, the user will be charged Rs. 10 per unit, After 300 units and above the user will be charged Rs. 20 per unit.You are required to take the units of electricity consumed in a month from the user as input. Your program must pass this test case: when the unit of electricity consumed by the user in a month is 310, the total electricity bill should be 2250"
   ]
  },
  {
   "cell_type": "code",
   "execution_count": 7,
   "metadata": {},
   "outputs": [
    {
     "name": "stdout",
     "output_type": "stream",
     "text": [
      "Enter Unit: 310\n",
      "Total Bill:  2250.0\n"
     ]
    }
   ],
   "source": [
    "Given_unit = int(input('Enter Unit: '))\n",
    "if Given_unit<=100:     \n",
    "    Bill=Given_unit*4.5\n",
    "elif 200>Given_unit>100:     \n",
    "    Bill=100*4.5+(Given_unit-100)*6\n",
    "elif 300>Given_unit>200:     \n",
    "    Bill=100*4.5+100*6+(Given_unit-200)*10\n",
    "else:     \n",
    "    Bill=100*4.5+100*6+100*10+(Given_unit-300)*20\n",
    "print('Total Bill: ',Bill)"
   ]
  },
  {
   "cell_type": "markdown",
   "metadata": {},
   "source": [
    "# Q4. Create a list of numbers from 1 to 100. Use for loop and while loop to calculate the cube of each number and if the cube of that number is divisible by 4 or 5 then append that number in a list and print that list"
   ]
  },
  {
   "cell_type": "code",
   "execution_count": 1,
   "metadata": {},
   "outputs": [
    {
     "data": {
      "text/plain": [
       "[8,\n",
       " 27,\n",
       " 64,\n",
       " 216,\n",
       " 512,\n",
       " 729,\n",
       " 1000,\n",
       " 1728,\n",
       " 2744,\n",
       " 3375,\n",
       " 4096,\n",
       " 5832,\n",
       " 8000,\n",
       " 9261,\n",
       " 10648,\n",
       " 13824,\n",
       " 17576,\n",
       " 19683,\n",
       " 21952,\n",
       " 27000,\n",
       " 32768,\n",
       " 35937,\n",
       " 39304,\n",
       " 46656,\n",
       " 54872,\n",
       " 59319,\n",
       " 64000,\n",
       " 74088,\n",
       " 85184,\n",
       " 91125,\n",
       " 97336,\n",
       " 110592,\n",
       " 125000,\n",
       " 132651,\n",
       " 140608,\n",
       " 157464,\n",
       " 175616,\n",
       " 185193,\n",
       " 195112,\n",
       " 216000,\n",
       " 238328,\n",
       " 250047,\n",
       " 262144,\n",
       " 287496,\n",
       " 314432,\n",
       " 328509,\n",
       " 343000,\n",
       " 373248,\n",
       " 405224,\n",
       " 421875,\n",
       " 438976,\n",
       " 474552,\n",
       " 512000,\n",
       " 531441,\n",
       " 551368,\n",
       " 592704,\n",
       " 636056,\n",
       " 658503,\n",
       " 681472,\n",
       " 729000,\n",
       " 778688,\n",
       " 804357,\n",
       " 830584,\n",
       " 884736,\n",
       " 941192,\n",
       " 970299,\n",
       " 1000000]"
      ]
     },
     "execution_count": 1,
     "metadata": {},
     "output_type": "execute_result"
    }
   ],
   "source": [
    "#Using For Loop\n",
    "n = 100\n",
    "list1 = []\n",
    "for i in range(1, n+1):\n",
    "    cube_of_number = i**3\n",
    "    if cube_of_number % 4 == 0 or cube_of_number % 3 == 0:\n",
    "        list1.append(cube_of_number)\n",
    "list1"
   ]
  },
  {
   "cell_type": "code",
   "execution_count": 3,
   "metadata": {},
   "outputs": [
    {
     "data": {
      "text/plain": [
       "[8,\n",
       " 27,\n",
       " 64,\n",
       " 216,\n",
       " 512,\n",
       " 729,\n",
       " 1000,\n",
       " 1728,\n",
       " 2744,\n",
       " 3375,\n",
       " 4096,\n",
       " 5832,\n",
       " 8000,\n",
       " 9261,\n",
       " 10648,\n",
       " 13824,\n",
       " 17576,\n",
       " 19683,\n",
       " 21952,\n",
       " 27000,\n",
       " 32768,\n",
       " 35937,\n",
       " 39304,\n",
       " 46656,\n",
       " 54872,\n",
       " 59319,\n",
       " 64000,\n",
       " 74088,\n",
       " 85184,\n",
       " 91125,\n",
       " 97336,\n",
       " 110592,\n",
       " 125000,\n",
       " 132651,\n",
       " 140608,\n",
       " 157464,\n",
       " 175616,\n",
       " 185193,\n",
       " 195112,\n",
       " 216000,\n",
       " 238328,\n",
       " 250047,\n",
       " 262144,\n",
       " 287496,\n",
       " 314432,\n",
       " 328509,\n",
       " 343000,\n",
       " 373248,\n",
       " 405224,\n",
       " 421875,\n",
       " 438976,\n",
       " 474552,\n",
       " 512000,\n",
       " 531441,\n",
       " 551368,\n",
       " 592704,\n",
       " 636056,\n",
       " 658503,\n",
       " 681472,\n",
       " 729000,\n",
       " 778688,\n",
       " 804357,\n",
       " 830584,\n",
       " 884736,\n",
       " 941192,\n",
       " 970299,\n",
       " 1000000]"
      ]
     },
     "execution_count": 3,
     "metadata": {},
     "output_type": "execute_result"
    }
   ],
   "source": [
    "n = 100\n",
    "list1= []\n",
    "i = 1\n",
    "while i <= n:\n",
    "    cube_of_number = i**3\n",
    "    if cube_of_number % 4 == 0 or cube_of_number % 3 == 0:\n",
    "        list1.append(cube_of_number)\n",
    "    i+=1\n",
    "list1"
   ]
  },
  {
   "cell_type": "markdown",
   "metadata": {},
   "source": [
    "# Q5.  Write a program to filter count vowels in the below-given string. string = \"I want to become a data scientist\""
   ]
  },
  {
   "cell_type": "code",
   "execution_count": 10,
   "metadata": {},
   "outputs": [
    {
     "data": {
      "text/plain": [
       "12"
      ]
     },
     "execution_count": 10,
     "metadata": {},
     "output_type": "execute_result"
    }
   ],
   "source": [
    "vowel_list = ['a','e','i','o','u']\n",
    "count = 0\n",
    "string = \"I want to become a data scientist\"\n",
    "for i in string.lower():\n",
    "    if i in vowel_list:\n",
    "        count+=1\n",
    "count"
   ]
  }
 ],
 "metadata": {
  "kernelspec": {
   "display_name": "Python 3",
   "language": "python",
   "name": "python3"
  },
  "language_info": {
   "codemirror_mode": {
    "name": "ipython",
    "version": 3
   },
   "file_extension": ".py",
   "mimetype": "text/x-python",
   "name": "python",
   "nbconvert_exporter": "python",
   "pygments_lexer": "ipython3",
   "version": "3.8.3"
  }
 },
 "nbformat": 4,
 "nbformat_minor": 4
}
