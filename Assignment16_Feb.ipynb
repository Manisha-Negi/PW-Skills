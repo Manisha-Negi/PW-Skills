{
 "cells": [
  {
   "cell_type": "markdown",
   "id": "b835ea5b",
   "metadata": {},
   "source": [
    "# Q1. What is a database? Differentiate between SQL and NoSQL databases?"
   ]
  },
  {
   "cell_type": "markdown",
   "id": "0f523e99",
   "metadata": {},
   "source": [
    "The database is an organized collection of structured data to make it easily accessible, manageable and update.\n",
    "\n",
    "1) SQL databases are table-based databases, whereas NoSQL databases can be document-based, key-value pairs, and graph databases.\n",
    "\n",
    "2) SQL databases are vertically scalable, while NoSQL databases are horizontally scalable.\n",
    "\n",
    "3) SQL databases have a predefined schema, whereas NoSQL databases use a dynamic schema for unstructured data."
   ]
  },
  {
   "cell_type": "markdown",
   "id": "da24a054",
   "metadata": {},
   "source": [
    "# Q2. What is DDL? Explain why CREATE, DROP, ALTER, and TRUNCATE are used with an example?"
   ]
  },
  {
   "cell_type": "markdown",
   "id": "deb3ebd0",
   "metadata": {},
   "source": [
    "A data definition language (DDL) is a computer language used to create and modify the structure of database objects in a database.\n",
    " \n",
    "CREATE - CREATE keyword is used to create the database, table etc\n",
    "\n",
    "Ex - CREATE DATABASE database_name;\n",
    "\n",
    "DROP - DROP keyword is used to delete. Deleting a table results in loss of all information stored in the table.\n",
    "\n",
    "Ex - DROP TABLE table_name;\n",
    "\n",
    "ALTER - The ALTER TABLE command adds, deletes, or modifies columns in a table.\n",
    "\n",
    "Ex - ALTER TABLE table_name DROP COLUMN column_name;\n",
    "\n",
    "TRUNCATE - The TRUNCATE TABLE command deletes the data inside a table, but not the table itself.\n",
    "\n",
    "Ex - TRUNCATE TABLE table_name;"
   ]
  },
  {
   "cell_type": "markdown",
   "id": "482e3b2a",
   "metadata": {},
   "source": [
    "# Q3. What is DML? Explain INSERT, UPDATE, and DELETE with an example?"
   ]
  },
  {
   "cell_type": "markdown",
   "id": "3c323758",
   "metadata": {},
   "source": [
    "A data manipulation language (DML) is a family of computer languages including commands permitting users to manipulate data in a database.\n",
    "\n",
    "INSERT - The INSERT INTO command is used to insert new rows in a table.\n",
    "\n",
    "EX - INSERT INTO Customers (CustomerName, ContactName, Address, City, PostalCode, Country) VALUES ('Cardinal', 'Tom B. Erichsen', 'Skagen 21', 'Stavanger', '4006', 'Norway');\n",
    "\n",
    "UPDATE - The UPDATE command is used to update existing rows in a table.\n",
    "\n",
    "Ex - UPDATE Customers SET ContactName = 'Alfred Schmidt', City= 'Frankfurt' WHERE CustomerID = 1;\n",
    "\n",
    "DELETE - The DELETE command is used to delete existing records in a table.\n",
    "\n",
    "Ex - DELETE FROM Customers WHERE CustomerName='Alfreds Futterkiste';"
   ]
  },
  {
   "cell_type": "markdown",
   "id": "a79db5b1",
   "metadata": {},
   "source": [
    "# Q4. What is DQL? Explain SELECT with an example?"
   ]
  },
  {
   "cell_type": "markdown",
   "id": "abbaf415",
   "metadata": {},
   "source": [
    "A data query language (DQL) is a portion of a SQL statement that allows you to get and organise data from a database.\n",
    "\n",
    "SELECT - The SELECT command is used to select data from a database.\n",
    "\n",
    "Ex - SELECT * FROM table_name;"
   ]
  },
  {
   "cell_type": "markdown",
   "id": "ef12a7f0",
   "metadata": {},
   "source": [
    "# Q5. Explain Primary Key and Foreign Key?"
   ]
  },
  {
   "cell_type": "markdown",
   "id": "5f0125e3",
   "metadata": {},
   "source": [
    "PRIMARY KEY - A combination of a NOT NULL and UNIQUE. Uniquely identifies each row in a table\n",
    "\n",
    "FOREIGN KEY - Prevents actions that would destroy links between tables"
   ]
  },
  {
   "cell_type": "markdown",
   "id": "30ce0c96",
   "metadata": {},
   "source": [
    "# Q6. Write a python code to connect MySQL to python. Explain the cursor() and execute() method?"
   ]
  },
  {
   "cell_type": "markdown",
   "id": "7286da18",
   "metadata": {},
   "source": [
    "import mysql.connector\n",
    "\n",
    "myconn = mysql.connector.connect(host = \"localhost\", user = \"root\",passwd = \"google\", database = \"mydb\")\n",
    "\n",
    "cur = myconn.cursor()\n",
    "\n",
    "\n",
    "cursor() - This method accepts a MySQL query as a parameter\n",
    "\n",
    "execute() - This method executes the given database operation"
   ]
  },
  {
   "cell_type": "markdown",
   "id": "58e0dbd4",
   "metadata": {},
   "source": [
    "# Q7. Give the order of execution of SQL clauses in an SQL query?"
   ]
  },
  {
   "cell_type": "markdown",
   "id": "2fa2593c",
   "metadata": {},
   "source": [
    "The order in which the clauses in queries are executed is as follows:\n",
    "\n",
    "1. FROM/JOIN: The FROM and/or JOIN clauses are executed first to determine the data of interest.\n",
    "\n",
    "2. WHERE: The WHERE clause is executed to filter out records that do not meet the constraints.\n",
    "\n",
    "3. GROUP BY: The GROUP BY clause is executed to group the data based on the values in one or more columns.\n",
    "\n",
    "4. HAVING: The HAVING clause is executed to remove the created grouped records that don’t meet the constraints.\n",
    "\n",
    "5. SELECT: The SELECT clause is executed to derive all desired columns and expressions.\n",
    "\n",
    "6. ORDER BY: The ORDER BY clause is executed to sort the derived values in ascending or descending order.\n",
    "\n",
    "7. LIMIT/OFFSET: Finally, the LIMIT and/or OFFSET clauses are executed to keep or skip a specified number of rows."
   ]
  }
 ],
 "metadata": {
  "kernelspec": {
   "display_name": "Python 3 (ipykernel)",
   "language": "python",
   "name": "python3"
  },
  "language_info": {
   "codemirror_mode": {
    "name": "ipython",
    "version": 3
   },
   "file_extension": ".py",
   "mimetype": "text/x-python",
   "name": "python",
   "nbconvert_exporter": "python",
   "pygments_lexer": "ipython3",
   "version": "3.9.13"
  }
 },
 "nbformat": 4,
 "nbformat_minor": 5
}
